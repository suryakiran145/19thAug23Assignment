{
  "nbformat": 4,
  "nbformat_minor": 0,
  "metadata": {
    "colab": {
      "provenance": []
    },
    "kernelspec": {
      "name": "python3",
      "display_name": "Python 3"
    },
    "language_info": {
      "name": "python"
    }
  },
  "cells": [
    {
      "cell_type": "code",
      "execution_count": null,
      "metadata": {
        "id": "BmedeAvu_fc7"
      },
      "outputs": [],
      "source": []
    },
    {
      "cell_type": "markdown",
      "source": [
        "# **TOPIC: Python Basics Variable**"
      ],
      "metadata": {
        "id": "cO1uFpOk_0DI"
      }
    },
    {
      "cell_type": "markdown",
      "source": [
        "1. Declare two variables, `x` and `y`, and assign them integer values. Swap the\n",
        "values of these variables without using any temporary variable."
      ],
      "metadata": {
        "id": "7OBc1aWc_6BE"
      }
    },
    {
      "cell_type": "code",
      "source": [
        "x = 5\n",
        "y = 10\n",
        "\n",
        "# Without adding a temporary variable, the above variable can be written as x, y = y, x\n",
        "# Here without mentioning the variable, (x,y) is considered as temporary value\n",
        "# meaning, temp = (x, y) => temp = (5, 10)\n",
        "# Also (y, x) = temp; which again is broken down to y = temp[0] ; x = temp[1]\n",
        "\n",
        "x, y = y, x\n",
        "print(\"x =\", x)\n",
        "print(\"y =\", y)"
      ],
      "metadata": {
        "colab": {
          "base_uri": "https://localhost:8080/"
        },
        "id": "h3dvWnsa_6_V",
        "outputId": "d4487471-aae5-4307-d44e-543584f70daa"
      },
      "execution_count": null,
      "outputs": [
        {
          "output_type": "stream",
          "name": "stdout",
          "text": [
            "x = 10\n",
            "y = 5\n"
          ]
        }
      ]
    },
    {
      "cell_type": "markdown",
      "source": [
        "2. Create a program that calculates the area of a rectangle. Take the length and\n",
        "width as inputs from the user and store them in variables. Calculate and\n",
        "display the area."
      ],
      "metadata": {
        "id": "qdhdYSAyitb5"
      }
    },
    {
      "cell_type": "code",
      "source": [
        "#As we know area of rectangle is length * width; A = l*b\n",
        "#Length is stored in a variable called 'length' which has input as function for the user to enter the data and wrapped in int\n",
        "#Width is stored in a variable called 'width' which has input as function for the user to enter the data and wrapped in int\n",
        "#Inside input() a string is added for visual reference\n",
        "\n",
        "length = int(input('Please input length of the rectangle: '))\n",
        "width = int(input('Please input width of the rectangle: '))\n",
        "\n",
        "#Area is given in f string to capture the data given by the user and giving a simple calculation of length * width\n",
        "#The area is then given print function to display the actual results\n",
        "\n",
        "Area = f\"Area of the rectangle is: {length * width}\"\n",
        "print(Area)"
      ],
      "metadata": {
        "colab": {
          "base_uri": "https://localhost:8080/"
        },
        "id": "MJDiN14Riwtu",
        "outputId": "fbe7978a-0bf2-4faf-b9af-a0f2b03ca5dc"
      },
      "execution_count": null,
      "outputs": [
        {
          "output_type": "stream",
          "name": "stdout",
          "text": [
            "Please input length of the rectangle: 50\n",
            "Please input width of the rectangle: 50\n",
            "Area of the rectangle is: 2500\n"
          ]
        }
      ]
    },
    {
      "cell_type": "markdown",
      "source": [
        "3. Write a Python program that converts temperatures from Celsius to\n",
        "Fahrenheit. Take the temperature in Celsius as input, store it in a variable,\n",
        "convert it to Fahrenheit, and display the result."
      ],
      "metadata": {
        "id": "H3xPS5UmoaXC"
      }
    },
    {
      "cell_type": "code",
      "source": [
        "\n",
        "#Celsius is stored in a variable called 'Celsius' which has input as function for the user to enter the data and wrapped in Float\n",
        "#Since the temperature can be floating point number\n",
        "Celsius = float(input('The current temperature in celsius is: °C '))\n",
        "\n",
        "#The quickest calculation  as per google, to convert celsius to Fahrenheit is [(Celsius*9/5) + 30]\n",
        "#Fahrenheit is stored in a variable called 'Fahrenheit' and the calculation is wrapped in Float\n",
        "#Since Fahrenheit can be floating point number\n",
        "#The variable 'Fahrenheit' is rounded to two decimal and stored in another varibale called 'Fahrenheit_round'\n",
        "Fahrenheit = float((Celsius*9/5) + 32)\n",
        "Fahrenheit_round = round(Fahrenheit , 2)\n",
        "\n",
        "#The result is stored as an F string in a variable called 'converted_temperature' and the result is printed\n",
        "converted_temperature = f\"The converted temperature in Fahrenheit is: °F {Fahrenheit_round}\"\n",
        "print(converted_temperature)\n"
      ],
      "metadata": {
        "colab": {
          "base_uri": "https://localhost:8080/"
        },
        "id": "Eh7tjYgXjoTI",
        "outputId": "063fda9d-41b4-491b-d2c9-148aa7a01203"
      },
      "execution_count": null,
      "outputs": [
        {
          "output_type": "stream",
          "name": "stdout",
          "text": [
            "The current temperature in celsius is: °C 39.2\n",
            "The converted temperature in Fahrenheit is: °F 102.56\n"
          ]
        }
      ]
    },
    {
      "cell_type": "code",
      "source": [],
      "metadata": {
        "id": "WDCp5SUdp4qC"
      },
      "execution_count": null,
      "outputs": []
    },
    {
      "cell_type": "markdown",
      "source": [
        "## TOPIC: String Based **Questions**"
      ],
      "metadata": {
        "id": "JVbdfIU6u7cO"
      }
    },
    {
      "cell_type": "markdown",
      "source": [
        "1. Write a Python program that takes a string as input and prints the length of\n",
        "the string."
      ],
      "metadata": {
        "id": "xwGXtuvHvCkE"
      }
    },
    {
      "cell_type": "code",
      "source": [
        "#The input is stored in a variable called user_input and wrapped in str, since the requirement is string\n",
        "user_input = str(input('Given input is: '))\n",
        "\n",
        "#len function is used and stored in a variabled called \"length_of_string\"\n",
        "length_of_string = len(user_input)\n",
        "\n",
        "#The result is stored as an F string in a variable called result\n",
        "result = f\"The length of the given input is: {length_of_string}\"\n",
        "\n",
        "#The result is then printed\n",
        "print(result)"
      ],
      "metadata": {
        "colab": {
          "base_uri": "https://localhost:8080/"
        },
        "id": "qGaZ-rAcu-8x",
        "outputId": "d6f317f0-da17-4d95-a06c-6bdd6781c948"
      },
      "execution_count": null,
      "outputs": [
        {
          "output_type": "stream",
          "name": "stdout",
          "text": [
            "Given input is: 21\n",
            "The length of the given input is: 2\n"
          ]
        }
      ]
    },
    {
      "cell_type": "markdown",
      "source": [
        "2. Create a program that takes a sentence from the user and counts the number\n",
        "of vowels (a, e, i, o, u) in the string."
      ],
      "metadata": {
        "id": "ZMzFew5PxcdQ"
      }
    },
    {
      "cell_type": "code",
      "source": [
        "#The input is stored in a variable and wrapped in str as per requirement\n",
        "alpha = str(input('Enter the text: '))\n",
        "\n",
        "#A variable name count is created to keep a count of vowels in the given input\n",
        "count = 0\n",
        "\n",
        "#using for loop to check the vowels in each character\n",
        "#Adding if statement as a condition to check if the vowels aeiouAEIOU is present in the given input\n",
        "#Incrementing count by 1 for each counter of vowels\n",
        "for vowels in alpha:\n",
        "  if (vowels in 'aeiouAEIOU'):\n",
        "    count += 1\n",
        "\n",
        "#Wrapping the result in F string and printing the result\n",
        "vowel_count = f\"The vowel count is:  {count}\"\n",
        "print(vowel_count)"
      ],
      "metadata": {
        "id": "4pYfFUx0xe1M",
        "colab": {
          "base_uri": "https://localhost:8080/"
        },
        "outputId": "e89a443b-43f9-48c3-edf9-0d83a723c10a"
      },
      "execution_count": 4,
      "outputs": [
        {
          "output_type": "stream",
          "name": "stdout",
          "text": [
            "Enter the text: Given a string, reverse the order of characters using string slicing and print the reversed string.\n",
            "The vowel count is:  26\n"
          ]
        }
      ]
    },
    {
      "cell_type": "markdown",
      "source": [
        "3. Given a string, reverse the order of characters using string slicing and print\n",
        "the reversed string."
      ],
      "metadata": {
        "id": "5Zlm6USO6FdG"
      }
    },
    {
      "cell_type": "code",
      "source": [
        "#Example 1\n",
        "#The string is stored in a variable called 'string1'\n",
        "string1 = 'This is a string'\n",
        "\n",
        "#String can be reversed through slicing [::-1], which is stored in a variable called 'reverse1'\n",
        "reverse1 = string1[::-1]\n",
        "\n",
        "#printing the result\n",
        "print(reverse1)\n",
        "\n",
        "#Example 2\n",
        "#The string is stored in a variable called 'string2' as an input for the user and wrapped in str as per the requirement\n",
        "string2 = str(input('The given string is: '))\n",
        "\n",
        "#String can be reversed through slicing [::-1], which is stored in a variable called 'reverse2'\n",
        "reverse2 = string2[::-1]\n",
        "\n",
        "#The resversal is stored as an F string is a variable called 'reversed_string'\n",
        "reversed_string = f\"The reversed string is: {reverse2}\"\n",
        "\n",
        "#The result is then printed\n",
        "print(reversed_string)"
      ],
      "metadata": {
        "colab": {
          "base_uri": "https://localhost:8080/"
        },
        "id": "kHDpmGeH56Wi",
        "outputId": "a9e03bd5-cdc6-47d9-e5bd-7b58a7c720a4"
      },
      "execution_count": null,
      "outputs": [
        {
          "output_type": "stream",
          "name": "stdout",
          "text": [
            "gnirts a si sihT\n",
            "The given string is: 10\n",
            "The reversed string is: 01\n"
          ]
        }
      ]
    },
    {
      "cell_type": "markdown",
      "source": [
        "4. Write a program that takes a string as input and checks if it is a palindrome\n",
        "(reads the same forwards and backwards)."
      ],
      "metadata": {
        "id": "BeoaQ31C8xTu"
      }
    },
    {
      "cell_type": "code",
      "source": [
        "#The input is stored in a variable and wrapped in str as per requirement\n",
        "Given_text = str(input('The given string is: '))\n",
        "\n",
        "#If: else statement is used to check if the given statement is true, the text under 'if' is printed\n",
        "#Here == is used to copared if the variable text and reverse variable text is equal\n",
        "if Given_text == Given_text[::-1]:\n",
        "  print('The given input is palindrome')\n",
        "#else the text under else is printed in the result\n",
        "else:\n",
        "  print('This given input is not palidrome')\n"
      ],
      "metadata": {
        "colab": {
          "base_uri": "https://localhost:8080/"
        },
        "id": "ym3IL0KH8zoB",
        "outputId": "12272946-f276-4956-d707-c22b2804e4ad"
      },
      "execution_count": null,
      "outputs": [
        {
          "output_type": "stream",
          "name": "stdout",
          "text": [
            "The given string is: motor\n",
            "This given input is not palidrome\n"
          ]
        }
      ]
    },
    {
      "cell_type": "markdown",
      "source": [
        "5. Create a program that takes a string as input and removes all the spaces from\n",
        "it. Print the modified string without spaces."
      ],
      "metadata": {
        "id": "PhwGK4_X_m62"
      }
    },
    {
      "cell_type": "code",
      "source": [
        "#The input is stored in a variable and wrapped in str as per requirement\n",
        "space = str(input('The given text is: '))\n",
        "\n",
        "#replace function is used to remove the spaces. Here \" \" is replaced with \"\"\n",
        "#It is stored in a variable called 'remove_space'\n",
        "remove_space = space.replace(\" \", \"\")\n",
        "\n",
        "#The result is then printed\n",
        "print(remove_space)"
      ],
      "metadata": {
        "colab": {
          "base_uri": "https://localhost:8080/"
        },
        "id": "idIa-_YP-Lpv",
        "outputId": "8beed55b-f9dc-46c3-cefc-675257a84c69"
      },
      "execution_count": null,
      "outputs": [
        {
          "output_type": "stream",
          "name": "stdout",
          "text": [
            "The given text is: There are various approaches to removing whitespaces in a string\n",
            "Therearevariousapproachestoremovingwhitespacesinastring\n"
          ]
        }
      ]
    },
    {
      "cell_type": "code",
      "source": [],
      "metadata": {
        "id": "lN18443oAKQw"
      },
      "execution_count": null,
      "outputs": []
    }
  ]
}